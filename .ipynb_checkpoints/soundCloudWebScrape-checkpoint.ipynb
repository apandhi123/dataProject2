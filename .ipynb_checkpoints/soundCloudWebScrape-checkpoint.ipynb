{
 "cells": [
  {
   "cell_type": "code",
   "execution_count": 1,
   "metadata": {
    "collapsed": true
   },
   "outputs": [],
   "source": [
    "from bs4 import BeautifulSoup\n",
    "import requests\n",
    "import os\n",
    "from selenium import webdriver\n",
    "import pandas as pd\n",
    "import time\n",
    "from splinter import Browser\n",
    "import webbrowser"
   ]
  },
  {
   "cell_type": "code",
   "execution_count": 2,
   "metadata": {
    "collapsed": true
   },
   "outputs": [],
   "source": [
    "def init_browser():\n",
    "    # @NOTE: Replace the path with your actual path to the chromedriver\n",
    "    executable_path = {\"executable_path\": \"chromedriver\"}\n",
    "    return Browser(\"chrome\", **executable_path, headless=False)\n"
   ]
  },
  {
   "cell_type": "code",
   "execution_count": 3,
   "metadata": {
    "collapsed": true
   },
   "outputs": [],
   "source": [
    "def scrape():\n",
    "    browser = init_browser()    \n",
    "    \n",
    "    top_songs_url = \"https://soundcloud.com/charts/top?genre=all-music&country=US\"\n",
    "    browser.visit(top_songs_url)\n",
    "    html = browser.html\n",
    "    soup = BeautifulSoup(html, 'html.parser')\n",
    "    \n",
    "    topChart = soup.find('div', class_='chartTracks lazyLoadingList')\n",
    "    songs = topChart.find_all('li', class_='chartTracks__item')\n",
    "    \n",
    "\n",
    "#     songNames = []\n",
    "    chartPosition = []\n",
    "    artists = []\n",
    "#     weeklyListenCount = []\n",
    "    # allTimeListenCount = []\n",
    "\n",
    "    for song in songs:\n",
    "            position = song.find('div',class_ = 'chartTrack__position sc-font-tabular')\n",
    "            positionNumber = position.text.strip()\n",
    "            chartPosition.append(positionNumber)\n",
    "            \n",
    "            trackDetails = song.find('div', class_ = 'chartTrack__details')\n",
    "            artistName = song.find(class_='sc-link-light')\n",
    "            names = artistName.text.strip()\n",
    "            cleanedNames = names.replace('\\x7f',\"\")\n",
    "            artists.append(cleanedNames)\n",
    "\n",
    "#             weeklyPlayClass = song.find('div',class_ = 'chartTrack__scoreWeekPlays')\n",
    "#             weeklyPlayAmount = weeklyPlayClass.text.strip()\n",
    "#             weeklyListenCount.append(weeklyPlayAmount)\n",
    "            \n",
    "    print(chartPosition)\n",
    "    print(artists)"
   ]
  },
  {
   "cell_type": "code",
   "execution_count": 4,
   "metadata": {},
   "outputs": [
    {
     "name": "stdout",
     "output_type": "stream",
     "text": [
      "['1', '2', '3', '4', '5', '6', '7', '8', '9', '10', '11', '12', '13', '14', '15', '16', '17', '18', '19', '20']\n",
      "['6IX9INE', 'Juice WRLD', 'Trippie Redd', 'XXXTENTACION', 'Trippie Redd', 'Juice WRLD', 'Trippie Redd', 'Juice WRLD', 'Trippie Redd', 'Juice WRLD', 'Juice WRLD', 'XXXTENTACION', 'smokepurpp', 'Trippie Redd', 'Trippie Redd', 'Trippie Redd', 'Trippie Redd', 'Tyga', 'Trippie Redd', 'Trippie Redd']\n"
     ]
    }
   ],
   "source": [
    "scrape()"
   ]
  },
  {
   "cell_type": "code",
   "execution_count": 22,
   "metadata": {},
   "outputs": [
    {
     "name": "stderr",
     "output_type": "stream",
     "text": [
      "/Users/evertlizama/anaconda3/lib/python3.6/site-packages/selenium/webdriver/phantomjs/webdriver.py:49: UserWarning: Selenium support for PhantomJS has been deprecated, please use headless versions of Chrome or Firefox instead\n",
      "  warnings.warn('Selenium support for PhantomJS has been deprecated, please use headless '\n"
     ]
    },
    {
     "ename": "AttributeError",
     "evalue": "'NoneType' object has no attribute 'find'",
     "output_type": "error",
     "traceback": [
      "\u001b[0;31m---------------------------------------------------------------------------\u001b[0m",
      "\u001b[0;31mAttributeError\u001b[0m                            Traceback (most recent call last)",
      "\u001b[0;32m<ipython-input-22-6b4609c39558>\u001b[0m in \u001b[0;36m<module>\u001b[0;34m()\u001b[0m\n\u001b[1;32m     31\u001b[0m \u001b[0;31m#         bday = soup.find('span', {'class': 'bday'}).text\u001b[0m\u001b[0;34m\u001b[0m\u001b[0;34m\u001b[0m\u001b[0m\n\u001b[1;32m     32\u001b[0m \u001b[0;34m\u001b[0m\u001b[0m\n\u001b[0;32m---> 33\u001b[0;31m         \u001b[0mweeklyPlayHiddenScore\u001b[0m \u001b[0;34m=\u001b[0m \u001b[0mweeklyPlayClass\u001b[0m\u001b[0;34m.\u001b[0m\u001b[0mfind\u001b[0m\u001b[0;34m(\u001b[0m\u001b[0mclass_\u001b[0m\u001b[0;34m=\u001b[0m\u001b[0;34m'sc-visuallyhidden'\u001b[0m\u001b[0;34m)\u001b[0m\u001b[0;34m\u001b[0m\u001b[0m\n\u001b[0m\u001b[1;32m     34\u001b[0m         \u001b[0mweeklyPlayAmount\u001b[0m \u001b[0;34m=\u001b[0m \u001b[0mweeklyPlayHiddenScore\u001b[0m\u001b[0;34m.\u001b[0m\u001b[0mtext\u001b[0m\u001b[0;34m.\u001b[0m\u001b[0mstrip\u001b[0m\u001b[0;34m(\u001b[0m\u001b[0;34m)\u001b[0m\u001b[0;34m\u001b[0m\u001b[0m\n\u001b[1;32m     35\u001b[0m         \u001b[0mweeklyListenCount\u001b[0m\u001b[0;34m.\u001b[0m\u001b[0mappend\u001b[0m\u001b[0;34m(\u001b[0m\u001b[0mweeklyPlayAmount\u001b[0m\u001b[0;34m)\u001b[0m\u001b[0;34m\u001b[0m\u001b[0m\n",
      "\u001b[0;31mAttributeError\u001b[0m: 'NoneType' object has no attribute 'find'"
     ]
    }
   ],
   "source": [
    "top_songs_url = \"https://soundcloud.com/charts/top?genre=all-music&country=US\"\n",
    "browser = webdriver.PhantomJS(executable_path= \"phantomjs-2.1.1-macosx/bin/phantomjs\")\n",
    "browser.get(top_songs_url)\n",
    "html = browser.page_source\n",
    "soup = BeautifulSoup(html, 'html.parser')\n",
    "# print(soup.prettify())\n",
    "\n",
    "\n",
    "topChart = soup.find('div', class_='chartTracks lazyLoadingList')\n",
    "songs = topChart.find_all('li', class_='chartTracks__item')\n",
    "    \n",
    "\n",
    "#     songNames = []\n",
    "chartPosition = []\n",
    "artists = []\n",
    "weeklyListenCount = []\n",
    "    # allTimeListenCount = []\n",
    "\n",
    "for song in songs:\n",
    "        position = song.find('div',class_ = 'chartTrack__position sc-font-tabular')\n",
    "        positionNumber = position.text.strip()\n",
    "        chartPosition.append(positionNumber)\n",
    "            \n",
    "        trackDetails = song.find('div', class_ = 'chartTrack__details')\n",
    "        artistName = song.find(class_='sc-link-light')\n",
    "        names = artistName.text.strip()\n",
    "        cleanedNames = names.replace('\\x7f',\"\")\n",
    "        artists.append(cleanedNames)\n",
    "\n",
    "        weeklyPlayClass = song.find('div',class_ = 'chartTrack__scoreWeekPlays')\n",
    "        weeklyPlayHiddenScore = soup.find(class_='sc-visuallyhidden')\n",
    "        weeklyPlayAmount = weeklyPlayHiddenScore.text.strip()\n",
    "        weeklyListenCount.append(weeklyPlayAmount)\n",
    "            \n",
    "print(chartPosition)\n",
    "print(artists)\n",
    "print(weeklyListenCount)"
   ]
  },
  {
   "cell_type": "code",
   "execution_count": null,
   "metadata": {
    "collapsed": true
   },
   "outputs": [],
   "source": []
  }
 ],
 "metadata": {
  "kernelspec": {
   "display_name": "Python 3",
   "language": "python",
   "name": "python3"
  },
  "language_info": {
   "codemirror_mode": {
    "name": "ipython",
    "version": 3
   },
   "file_extension": ".py",
   "mimetype": "text/x-python",
   "name": "python",
   "nbconvert_exporter": "python",
   "pygments_lexer": "ipython3",
   "version": "3.6.3"
  }
 },
 "nbformat": 4,
 "nbformat_minor": 2
}
