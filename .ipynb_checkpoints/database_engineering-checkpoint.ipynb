{
 "cells": [
  {
   "cell_type": "code",
   "execution_count": 1,
   "metadata": {
    "collapsed": true,
    "nbgrader": {
     "grade": false,
     "grade_id": "cell-73b2f38ad9371a0f",
     "locked": false,
     "schema_version": 1,
     "solution": true
    }
   },
   "outputs": [],
   "source": [
    "# Imports\n",
    "import pandas as pd\n",
    "import sqlalchemy\n",
    "from sqlalchemy import create_engine, MetaData\n",
    "from sqlalchemy.ext.declarative import declarative_base\n",
    "from sqlalchemy import Column, Integer, String, Numeric, Text, Float, ForeignKey\n",
    "from sqlalchemy.orm import sessionmaker, relationship\n"
   ]
  },
  {
   "cell_type": "code",
   "execution_count": 2,
   "metadata": {
    "collapsed": true,
    "nbgrader": {
     "grade": false,
     "grade_id": "cell-4348a03f380dfb6f",
     "locked": false,
     "schema_version": 1,
     "solution": true
    }
   },
   "outputs": [],
   "source": [
    "# Create Engine\n",
    "engine = create_engine(\"sqlite:///soundcloud.sqlite\")\n"
   ]
  },
  {
   "cell_type": "code",
   "execution_count": 3,
   "metadata": {
    "collapsed": true,
    "nbgrader": {
     "grade": false,
     "grade_id": "cell-80d9eb4438af8d35",
     "locked": false,
     "schema_version": 1,
     "solution": true
    }
   },
   "outputs": [],
   "source": [
    "# Use `declarative_base` from SQLAlchemy to model the demographics table as an ORM class\n",
    "# Make sure to specify types for each column\n",
    "# Declare a Base object here\n",
    "Base = declarative_base()\n"
   ]
  },
  {
   "cell_type": "code",
   "execution_count": 4,
   "metadata": {
    "nbgrader": {
     "grade": false,
     "grade_id": "cell-002f39eb815802b5",
     "locked": false,
     "schema_version": 1,
     "solution": true
    }
   },
   "outputs": [],
   "source": [
    "# Define the ORM class for `allTimePlayCount`\n",
    "\n",
    "class allTimePlayCount(Base):\n",
    "    \n",
    "    __tablename__ = 'allTimePlayCount'\n",
    "    __table_args__ = {'extend_existing': True} \n",
    "    \n",
    "    Genre = Column(Text, primary_key=True)\n",
    "    allTimePlays = Column(Integer)\n",
    "    \n",
    "    def __repr__(self):\n",
    "        return f\"id={self.Genre}, name={self.allTimePlays}\"\n"
   ]
  },
  {
   "cell_type": "code",
   "execution_count": 5,
   "metadata": {
    "nbgrader": {
     "grade": false,
     "grade_id": "cell-dadf37f07a4419c2",
     "locked": false,
     "schema_version": 1,
     "solution": true
    }
   },
   "outputs": [],
   "source": [
    "# Define the ORM class for `Station`\n",
    "class weeklyPlayCount(Base):\n",
    "    \n",
    "    __tablename__ = 'weeklyPlayCount'\n",
    "    __table_args__ = {'extend_existing': True} \n",
    "\n",
    "\n",
    "    Genre = Column(Text, primary_key=True)\n",
    "    weeklyPlays = Column(Integer)\n",
    "\n",
    "    def __repr__(self):\n",
    "        return f\"id={self.Genre}, name={self.weeklyPlays}\"\n"
   ]
  },
  {
   "cell_type": "code",
   "execution_count": 6,
   "metadata": {
    "collapsed": true,
    "nbgrader": {
     "grade": false,
     "grade_id": "cell-5218105c2b354fdf",
     "locked": false,
     "schema_version": 1,
     "solution": true
    }
   },
   "outputs": [],
   "source": [
    "# Use `create_all` to create the tables\n",
    "Base.metadata.create_all(engine)\n"
   ]
  },
  {
   "cell_type": "code",
   "execution_count": 7,
   "metadata": {
    "nbgrader": {
     "grade": false,
     "grade_id": "cell-afd7af1e5402db5f",
     "locked": false,
     "schema_version": 1,
     "solution": true
    }
   },
   "outputs": [
    {
     "data": {
      "text/plain": [
       "['allTimePlayCount', 'weeklyPlayCount']"
      ]
     },
     "execution_count": 7,
     "metadata": {},
     "output_type": "execute_result"
    }
   ],
   "source": [
    "# Verify that the table names exist in the database\n",
    "engine.table_names()\n"
   ]
  },
  {
   "cell_type": "code",
   "execution_count": 8,
   "metadata": {
    "nbgrader": {
     "grade": false,
     "grade_id": "cell-770279fd4ca289f3",
     "locked": false,
     "schema_version": 1,
     "solution": true
    }
   },
   "outputs": [],
   "source": [
    "# Use Pandas to Bulk insert each CSV file into their appropriate table\n",
    "\n",
    "def populate_table(engine, table, csvfile):\n",
    "    \"\"\"Populates a table from a Pandas DataFrame.\"\"\"\n",
    "    # connect to the database\n",
    "    conn = engine.connect()\n",
    "    \n",
    "    # Load the CSV file into a pandas dataframe \n",
    "    df_of_data_to_insert = pd.read_csv(csvfile)\n",
    "    \n",
    "    # Orient='records' creates a list of data to write\n",
    "    # http://pandas-docs.github.io/pandas-docs-travis/io.html#orient-options\n",
    "    data = df_of_data_to_insert.to_dict(orient='records')\n",
    "\n",
    "    # Optional: Delete all rows in the table \n",
    "    conn.execute(table.delete())\n",
    "\n",
    "    # Insert the dataframe into the database in one bulk insert\n",
    "    conn.execute(table.insert(), data)\n",
    "    \n",
    "# Call the function to insert the data for each table\n",
    "populate_table(engine, weeklyPlayCount.__table__, 'outputs/allWeeklyPlays.csv')\n",
    "populate_table(engine, allTimePlayCount.__table__, 'outputs/allTimePlays.csv')\n"
   ]
  },
  {
   "cell_type": "code",
   "execution_count": 9,
   "metadata": {
    "nbgrader": {
     "grade": false,
     "grade_id": "cell-0e70107d966ea1e6",
     "locked": false,
     "schema_version": 1,
     "solution": true
    }
   },
   "outputs": [
    {
     "data": {
      "text/plain": [
       "[('Hip-Hop', 1341400025),\n",
       " ('R&B', 1078842494),\n",
       " ('Dance Hall', 885886121),\n",
       " ('Electronic Dance Music (EDM)', 885886121),\n",
       " ('Electronic', 717754470),\n",
       " ('House', 626515721),\n",
       " ('Latin', 547112114),\n",
       " ('Pop', 454106193),\n",
       " ('Dubstep', 335729509),\n",
       " ('Reggaeton', 275786909),\n",
       " ('Deep House', 255038873),\n",
       " ('Rock', 189451042),\n",
       " ('Alternative Rock', 133344855),\n",
       " ('World Music', 123661893),\n",
       " ('Country', 121147282),\n",
       " ('Ambient', 116873369),\n",
       " ('Reggae', 109432998),\n",
       " ('SoundTrack', 90188235),\n",
       " ('Classical', 85909366),\n",
       " ('Folk', 77292122),\n",
       " ('Indie', 75959255),\n",
       " ('Metal', 74440815),\n",
       " ('Piano', 56291090),\n",
       " ('Drum Bass', 47488330),\n",
       " ('Jazz', 44354095),\n",
       " ('Techno', 25266998),\n",
       " ('Disco', 15870036)]"
      ]
     },
     "execution_count": 9,
     "metadata": {},
     "output_type": "execute_result"
    }
   ],
   "source": [
    "# Use a basic query to validate that the data was inserted correctly for table `measurement`\n",
    "engine.execute(\"SELECT * FROM allTimePlayCount\").fetchall()\n",
    "#NOTE: NEED TO RENAME THIS TABLE FIELD"
   ]
  },
  {
   "cell_type": "code",
   "execution_count": 10,
   "metadata": {
    "nbgrader": {
     "grade": false,
     "grade_id": "cell-e45275e2616d55aa",
     "locked": false,
     "schema_version": 1,
     "solution": true
    }
   },
   "outputs": [
    {
     "data": {
      "text/plain": [
       "[('Hip-Hop', 43903699),\n",
       " ('R&B', 9492331),\n",
       " ('Pop', 3758825),\n",
       " ('Latin', 1861022),\n",
       " ('Country', 1732593),\n",
       " ('Electronic', 1522777),\n",
       " ('Dance Hall', 1320940),\n",
       " ('Electronic Dance Music (EDM)', 1320940),\n",
       " ('Reggaeton', 1299906),\n",
       " ('World Music', 1226076),\n",
       " ('Rock', 762932),\n",
       " ('Dubstep', 642044),\n",
       " ('House', 605811),\n",
       " ('Alternative Rock', 380492),\n",
       " ('Folk', 322964),\n",
       " ('SoundTrack', 277843),\n",
       " ('Ambient', 267882),\n",
       " ('Classical', 247915),\n",
       " ('Indie', 195854),\n",
       " ('Deep House', 183181),\n",
       " ('Reggae', 146809),\n",
       " ('Metal', 146375),\n",
       " ('Drum Bass', 96773),\n",
       " ('Jazz', 85321),\n",
       " ('Techno', 64935),\n",
       " ('Piano', 63082),\n",
       " ('Disco', 23889)]"
      ]
     },
     "execution_count": 10,
     "metadata": {},
     "output_type": "execute_result"
    }
   ],
   "source": [
    "# Use a basic query to validate that the data was inserted correctly for table `station`\n",
    "engine.execute(\"SELECT * FROM weeklyPlayCount\").fetchall()\n"
   ]
  }
 ],
 "metadata": {
  "celltoolbar": "Create Assignment",
  "kernelspec": {
   "display_name": "Python 3",
   "language": "python",
   "name": "python3"
  },
  "language_info": {
   "codemirror_mode": {
    "name": "ipython",
    "version": 3
   },
   "file_extension": ".py",
   "mimetype": "text/x-python",
   "name": "python",
   "nbconvert_exporter": "python",
   "pygments_lexer": "ipython3",
   "version": "3.6.3"
  },
  "varInspector": {
   "cols": {
    "lenName": 16,
    "lenType": 16,
    "lenVar": 40
   },
   "kernels_config": {
    "python": {
     "delete_cmd_postfix": "",
     "delete_cmd_prefix": "del ",
     "library": "var_list.py",
     "varRefreshCmd": "print(var_dic_list())"
    },
    "r": {
     "delete_cmd_postfix": ") ",
     "delete_cmd_prefix": "rm(",
     "library": "var_list.r",
     "varRefreshCmd": "cat(var_dic_list()) "
    }
   },
   "types_to_exclude": [
    "module",
    "function",
    "builtin_function_or_method",
    "instance",
    "_Feature"
   ],
   "window_display": false
  }
 },
 "nbformat": 4,
 "nbformat_minor": 2
}
