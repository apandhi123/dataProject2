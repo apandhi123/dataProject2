{
 "cells": [
  {
   "cell_type": "code",
   "execution_count": 1,
   "metadata": {
    "collapsed": true,
    "nbgrader": {
     "grade": false,
     "grade_id": "cell-73b2f38ad9371a0f",
     "locked": false,
     "schema_version": 1,
     "solution": true
    }
   },
   "outputs": [],
   "source": [
    "# Imports\n",
    "import pandas as pd\n",
    "import sqlalchemy\n",
    "from sqlalchemy import create_engine, MetaData\n",
    "from sqlalchemy.ext.declarative import declarative_base\n",
    "from sqlalchemy import Column, Integer, String, Numeric, Text, Float, ForeignKey\n",
    "from sqlalchemy.orm import sessionmaker, relationship\n"
   ]
  },
  {
   "cell_type": "code",
   "execution_count": 2,
   "metadata": {
    "collapsed": true,
    "nbgrader": {
     "grade": false,
     "grade_id": "cell-4348a03f380dfb6f",
     "locked": false,
     "schema_version": 1,
     "solution": true
    }
   },
   "outputs": [],
   "source": [
    "# Create Engine\n",
    "\n",
    "engine = create_engine(\"sqlite:///soundcloud.sqlite\")\n"
   ]
  },
  {
   "cell_type": "code",
   "execution_count": 3,
   "metadata": {
    "collapsed": true,
    "nbgrader": {
     "grade": false,
     "grade_id": "cell-80d9eb4438af8d35",
     "locked": false,
     "schema_version": 1,
     "solution": true
    }
   },
   "outputs": [],
   "source": [
    "# Declare a Base object here\n",
    "Base = declarative_base()\n"
   ]
  },
  {
   "cell_type": "code",
   "execution_count": 4,
   "metadata": {
    "collapsed": true,
    "nbgrader": {
     "grade": false,
     "grade_id": "cell-002f39eb815802b5",
     "locked": false,
     "schema_version": 1,
     "solution": true
    }
   },
   "outputs": [],
   "source": [
    "# Define the ORM class for `allTimePlayCount`\n",
    "\n",
    "class allTimePlayCount(Base):\n",
    "    \n",
    "    __tablename__ = 'allTimePlayCount'\n",
    "    __table_args__ = {'extend_existing': True} \n",
    "    \n",
    "    Genre = Column(Text, primary_key=True)\n",
    "    allTimePlays = Column(Integer)\n",
    "    \n",
    "    def __repr__(self):\n",
    "        return f\"id={self.Genre}, name={self.allTimePlays}\"\n"
   ]
  },
  {
   "cell_type": "code",
   "execution_count": 5,
   "metadata": {
    "collapsed": true,
    "nbgrader": {
     "grade": false,
     "grade_id": "cell-dadf37f07a4419c2",
     "locked": false,
     "schema_version": 1,
     "solution": true
    }
   },
   "outputs": [],
   "source": [
    "# Define the ORM class for `weeklyPlayCount`\n",
    "class weeklyPlayCount(Base):\n",
    "    \n",
    "    __tablename__ = 'weeklyPlayCount'\n",
    "    __table_args__ = {'extend_existing': True} \n",
    "\n",
    "\n",
    "    Genre = Column(Text, primary_key=True)\n",
    "    weeklyPlays = Column(Integer)\n",
    "\n",
    "    def __repr__(self):\n",
    "        return f\"id={self.Genre}, name={self.weeklyPlays}\"\n"
   ]
  },
  {
   "cell_type": "code",
   "execution_count": 6,
   "metadata": {
    "collapsed": true,
    "nbgrader": {
     "grade": false,
     "grade_id": "cell-5218105c2b354fdf",
     "locked": false,
     "schema_version": 1,
     "solution": true
    }
   },
   "outputs": [],
   "source": [
    "# Use `create_all` to create the tables\n",
    "Base.metadata.create_all(engine)\n"
   ]
  },
  {
   "cell_type": "code",
   "execution_count": 7,
   "metadata": {
    "nbgrader": {
     "grade": false,
     "grade_id": "cell-afd7af1e5402db5f",
     "locked": false,
     "schema_version": 1,
     "solution": true
    }
   },
   "outputs": [
    {
     "data": {
      "text/plain": [
       "['allTimePlayCount', 'weeklyPlayCount']"
      ]
     },
     "execution_count": 7,
     "metadata": {},
     "output_type": "execute_result"
    }
   ],
   "source": [
    "# Verify that the table names exist in the database\n",
    "engine.table_names()\n"
   ]
  },
  {
   "cell_type": "code",
   "execution_count": 9,
   "metadata": {
    "collapsed": true,
    "nbgrader": {
     "grade": false,
     "grade_id": "cell-770279fd4ca289f3",
     "locked": false,
     "schema_version": 1,
     "solution": true
    }
   },
   "outputs": [],
   "source": [
    "# Use Pandas to Bulk insert each CSV file into their appropriate table\n",
    "\n",
    "def populate_table(engine, table, csvfile):\n",
    "    \"\"\"Populates a table from a Pandas DataFrame.\"\"\"\n",
    "    # connect to the database\n",
    "    conn = engine.connect()\n",
    "    \n",
    "    # Load the CSV file into a pandas dataframe \n",
    "    df_of_data_to_insert = pd.read_csv(csvfile)\n",
    "    \n",
    "    # Orient='records' creates a list of data to write\n",
    "    # http://pandas-docs.github.io/pandas-docs-travis/io.html#orient-options\n",
    "    data = df_of_data_to_insert.to_dict(orient='records')\n",
    "\n",
    "    # Optional: Delete all rows in the table \n",
    "    conn.execute(table.delete())\n",
    "\n",
    "    # Insert the dataframe into the database in one bulk insert\n",
    "    conn.execute(table.insert(), data)\n",
    "    \n",
    "# Call the function to insert the data for each table\n",
    "populate_table(engine, weeklyPlayCount.__table__, 'outputs/allWeeklyPlays.csv')\n",
    "populate_table(engine, allTimePlayCount.__table__, 'outputs/allTimePlays.csv')\n"
   ]
  },
  {
   "cell_type": "code",
   "execution_count": 10,
   "metadata": {
    "nbgrader": {
     "grade": false,
     "grade_id": "cell-0e70107d966ea1e6",
     "locked": false,
     "schema_version": 1,
     "solution": true
    }
   },
   "outputs": [
    {
     "data": {
      "text/plain": [
       "[('Hip-Hop', 1493885155),\n",
       " ('R&B', 1075967811),\n",
       " ('Electronic Dance Music (EDM)', 873200005),\n",
       " ('Electronic', 734744808),\n",
       " ('House', 587570334),\n",
       " ('Latin', 549290825),\n",
       " ('Pop', 456973925),\n",
       " ('Dubstep', 321688198),\n",
       " ('Rock', 280774629),\n",
       " ('Reggaeton', 277572177),\n",
       " ('Deep House', 262601830),\n",
       " ('Alternative Rock', 136228544),\n",
       " ('Country', 133531995),\n",
       " ('World Music', 127501479),\n",
       " ('Ambient', 116192917),\n",
       " ('Reggae', 110091195),\n",
       " ('Dance Hall', 105870453),\n",
       " ('Classical', 94202177),\n",
       " ('SoundTrack', 93998209),\n",
       " ('Folk', 77611061),\n",
       " ('Indie', 77533317),\n",
       " ('Metal', 73225016),\n",
       " ('Piano', 56291433),\n",
       " ('Drum Bass', 47498811),\n",
       " ('Jazz', 45360087),\n",
       " ('Techno', 25895147),\n",
       " ('Disco', 15462207)]"
      ]
     },
     "execution_count": 10,
     "metadata": {},
     "output_type": "execute_result"
    }
   ],
   "source": [
    "# Use a basic query to validate that the data was inserted correctly for table `allTimePlayCount`\n",
    "engine.execute(\"SELECT * FROM allTimePlayCount\").fetchall()\n",
    "#NOTE: NEED TO RENAME THIS TABLE FIELD"
   ]
  },
  {
   "cell_type": "code",
   "execution_count": 11,
   "metadata": {
    "nbgrader": {
     "grade": false,
     "grade_id": "cell-e45275e2616d55aa",
     "locked": false,
     "schema_version": 1,
     "solution": true
    }
   },
   "outputs": [
    {
     "data": {
      "text/plain": [
       "[('Hip-Hop', 44035845),\n",
       " ('R&B', 9611441),\n",
       " ('Pop', 3679753),\n",
       " ('Latin', 1872466),\n",
       " ('Electronic', 1494733),\n",
       " ('Country', 1435120),\n",
       " ('Reggaeton', 1369026),\n",
       " ('Electronic Dance Music (EDM)', 1296888),\n",
       " ('World Music', 1234752),\n",
       " ('Rock', 978367),\n",
       " ('House', 636750),\n",
       " ('Dubstep', 630263),\n",
       " ('Alternative Rock', 389283),\n",
       " ('Folk', 330228),\n",
       " ('Dance Hall', 301825),\n",
       " ('SoundTrack', 273283),\n",
       " ('Ambient', 271726),\n",
       " ('Classical', 256497),\n",
       " ('Indie', 197182),\n",
       " ('Deep House', 190286),\n",
       " ('Metal', 152111),\n",
       " ('Reggae', 145850),\n",
       " ('Drum Bass', 104500),\n",
       " ('Jazz', 89526),\n",
       " ('Piano', 63727),\n",
       " ('Techno', 60992),\n",
       " ('Disco', 24476)]"
      ]
     },
     "execution_count": 11,
     "metadata": {},
     "output_type": "execute_result"
    }
   ],
   "source": [
    "# Use a basic query to validate that the data was inserted correctly for table `weeklyPlayCount`\n",
    "engine.execute(\"SELECT * FROM weeklyPlayCount\").fetchall()\n"
   ]
  },
  {
   "cell_type": "code",
   "execution_count": null,
   "metadata": {
    "collapsed": true
   },
   "outputs": [],
   "source": []
  },
  {
   "cell_type": "code",
   "execution_count": null,
   "metadata": {
    "collapsed": true
   },
   "outputs": [],
   "source": []
  }
 ],
 "metadata": {
  "celltoolbar": "Create Assignment",
  "kernelspec": {
   "display_name": "Python 3",
   "language": "python",
   "name": "python3"
  },
  "language_info": {
   "codemirror_mode": {
    "name": "ipython",
    "version": 3
   },
   "file_extension": ".py",
   "mimetype": "text/x-python",
   "name": "python",
   "nbconvert_exporter": "python",
   "pygments_lexer": "ipython3",
   "version": "3.6.3"
  },
  "varInspector": {
   "cols": {
    "lenName": 16,
    "lenType": 16,
    "lenVar": 40
   },
   "kernels_config": {
    "python": {
     "delete_cmd_postfix": "",
     "delete_cmd_prefix": "del ",
     "library": "var_list.py",
     "varRefreshCmd": "print(var_dic_list())"
    },
    "r": {
     "delete_cmd_postfix": ") ",
     "delete_cmd_prefix": "rm(",
     "library": "var_list.r",
     "varRefreshCmd": "cat(var_dic_list()) "
    }
   },
   "types_to_exclude": [
    "module",
    "function",
    "builtin_function_or_method",
    "instance",
    "_Feature"
   ],
   "window_display": false
  }
 },
 "nbformat": 4,
 "nbformat_minor": 2
}
